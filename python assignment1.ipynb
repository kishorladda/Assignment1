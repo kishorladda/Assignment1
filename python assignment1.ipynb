{
 "cells": [
  {
   "cell_type": "markdown",
   "id": "b9b67a56-fd65-47f0-83d8-cdb53ac58914",
   "metadata": {},
   "source": [
    "Q 1] who developed the python programming launguage ? \n",
    "ans] Guido van rossum developed the python programming launguage .\n",
    "\n",
    "Q 2] which type of programming does the python support ? \n",
    "ans] python supports all type of programming launguage for eg. object oriented,structered programming, functional programming\n",
    "\n",
    "Q 3] is python case-sensitive while dealing with identifiers ? \n",
    "ans] yes,python is case sensitive as it treats uppercase and lowercase data differently.\n",
    "\n",
    "Q 4] what is the correct extension of python file ? \n",
    "ans] .py is the extension pf any python file.\n",
    "\n",
    "Q 5] is python code compiled or interpreted ? \n",
    "ans] python id interpreted language because it executes code line by line.\n",
    "\n",
    "Q 6] name few blocks of code used to define in python language ? \n",
    "ans] {} , () , [] these are some blocks which are used in python.\n",
    "\n",
    "Q 7] state a character used to give single line comments in python ? \n",
    "ans] '#'or / is used to give single line comments.\n",
    "\n",
    "Q 8] mention fuctions which can help us to find the version of python tha currently we are working on ? \n",
    "ans] the function sys.version helps us to find the version of python .\n",
    "\n",
    "Q 9] python supports the creation of ananymous function at runtime using a construct called ? \n",
    "ans] lambda .\n",
    "\n",
    "Q 10] what does pip stand for python ? \n",
    "ans] pip stands for preferred installer programme .\n",
    "\n",
    "Q 11] mention a few built in functions in python ? \n",
    "ans] count(), print() , type() , input(), len() , etc\n",
    "\n",
    "Q 12] what is the maximum possible length of identifier in python ? \n",
    "ans] 79 is the maximum possible length of identifier .\n",
    "\n",
    "Q 13] what are the benefits of using python ? \n",
    "ans] easy to learn , many libraries avilable which makes programming easy , used in data science, speedy operation.\n",
    "\n",
    "Q 14] how is memory managed in python ? \n",
    "ans] memory is managed in python using python memory manager which stores data in objects form internally and object allocator geta a call each time objects needs space .\n",
    "\n",
    "Q 15] how to install python in windows and set path variables ? \n",
    "ans] right click on this pc + properties + advanced system settings + environmental variables\n",
    "\n",
    "Q 16] is indentation required in python ? \n",
    "ans] yes indentation are very much important in python.\n"
   ]
  }
 ],
 "metadata": {
  "kernelspec": {
   "display_name": "Python 3 (ipykernel)",
   "language": "python",
   "name": "python3"
  },
  "language_info": {
   "codemirror_mode": {
    "name": "ipython",
    "version": 3
   },
   "file_extension": ".py",
   "mimetype": "text/x-python",
   "name": "python",
   "nbconvert_exporter": "python",
   "pygments_lexer": "ipython3",
   "version": "3.10.8"
  }
 },
 "nbformat": 4,
 "nbformat_minor": 5
}
